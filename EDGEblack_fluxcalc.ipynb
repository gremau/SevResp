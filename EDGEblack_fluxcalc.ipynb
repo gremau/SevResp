{
 "cells": [
  {
   "cell_type": "markdown",
   "metadata": {},
   "source": [
    "# Calculate fluxes from EDGE Black CO2 data\n",
    "\n",
    "All the data here are on the Google drive - change the path to your local one\n",
    "if you want to run this."
   ]
  },
  {
   "cell_type": "code",
   "execution_count": 1,
   "metadata": {},
   "outputs": [
    {
     "name": "stderr",
     "output_type": "stream",
     "text": [
      "/home/greg/GitHub/sawyer/config.py:59: UserWarning: \u001b[93m\n",
      "sawyer_config directory not in current or parent directory.\n",
      "Project configs not found!\u001b[0m\n",
      "  ' or parent directory.\\nProject configs not found!' + tcol.ENDC)\n"
     ]
    },
    {
     "name": "stdin",
     "output_type": "stream",
     "text": [
      "Would you like to select a project directory? (Y/n)\n",
      " n\n"
     ]
    },
    {
     "name": "stdout",
     "output_type": "stream",
     "text": [
      "No directory given, continuing...\n",
      "\u001b[93mUnspecified project, no sawyer configs or paths available\u001b[0m\n"
     ]
    }
   ],
   "source": [
    "import sys\n",
    "sys.path.append('/home/greg/GitHub/')\n",
    "import numpy as np\n",
    "import pandas as pd\n",
    "import sawyer.dtools as sto\n",
    "import ecoflux.soil_gas_profile as sp\n",
    "import get_edge as ge"
   ]
  },
  {
   "cell_type": "code",
   "execution_count": 2,
   "metadata": {},
   "outputs": [],
   "source": [
    "# Path to datalogger files\n",
    "dpath = '/home/greg/GD_gregmaurer/Sev Soil Respiration Data/EDGE_Black_SoilSensorDat/'"
   ]
  },
  {
   "cell_type": "code",
   "execution_count": 3,
   "metadata": {},
   "outputs": [],
   "source": [
    "# Read in a file with data on the soil profiles\n",
    "soildf = pd.read_csv(\n",
    "        '/home/greg/GD_gregmaurer/Sev Soil Respiration Data/sev_soil_profiles.csv',\n",
    "        skiprows=3)"
   ]
  },
  {
   "cell_type": "code",
   "execution_count": 4,
   "metadata": {},
   "outputs": [
    {
     "name": "stdout",
     "output_type": "stream",
     "text": [
      "Parsing /home/greg/GD_gregmaurer/Sev Soil Respiration Data/EDGE_Black_SoilSensorDat/EDGE_Black_CR1000_1_co2.dat\n",
      "Parsing /home/greg/GD_gregmaurer/Sev Soil Respiration Data/EDGE_Black_SoilSensorDat/EDGE_Black_CR1000_2_co2.dat\n",
      "Parsing /home/greg/GD_gregmaurer/Sev Soil Respiration Data/EDGE_Black_SoilSensorDat/EDGE_Black_CR1000_1_vwc.dat\n",
      "Parsing /home/greg/GD_gregmaurer/Sev Soil Respiration Data/EDGE_Black_SoilSensorDat/EDGE_Black_CR1000_2_vwc.dat\n",
      "Parsing /home/greg/GD_gregmaurer/Sev Soil Respiration Data/EDGE_Black_SoilSensorDat/EDGE_Black_CR1000_1_temp.dat\n",
      "Parsing /home/greg/GD_gregmaurer/Sev Soil Respiration Data/EDGE_Black_SoilSensorDat/EDGE_Black_CR1000_2_temp.dat\n",
      "Parsing /home/greg/GD_gregmaurer/Sev Soil Respiration Data/EDGE_Black_SoilSensorDat/EDGE_Black_CR1000_2_met.dat\n"
     ]
    }
   ],
   "source": [
    "# Get the datalogger data (see get_edge.py, which was imported above)\n",
    "eb = ge.black_soil(dpath)"
   ]
  },
  {
   "cell_type": "code",
   "execution_count": 5,
   "metadata": {},
   "outputs": [
    {
     "data": {
      "text/plain": [
       "{'P17CON': ['5', '10', '20', 'AG25'],\n",
       " 'P18CON': ['5', '10', '20', 'AG25'],\n",
       " 'P19ESR': ['5', '10', '20'],\n",
       " 'P20DRT': ['5', '10', '20'],\n",
       " 'P22ESR': ['5', '10', '20'],\n",
       " 'P13DRT': ['5', '10', '20'],\n",
       " 'P23CON': ['5', '10', '20'],\n",
       " 'P16ESR': ['5', '10', '20'],\n",
       " 'P25DRT': ['5', '10', '20']}"
      ]
     },
     "execution_count": 5,
     "metadata": {},
     "output_type": "execute_result"
    }
   ],
   "source": [
    "\n",
    "# Create a CO2 sensor configuration dictionary (uses sawyer)\n",
    "co2conf = sto.var_h_v_dict2(eb.columns, 'CO2', horiz=0, vert=4)\n",
    "co2conf"
   ]
  },
  {
   "cell_type": "code",
   "execution_count": 6,
   "metadata": {},
   "outputs": [],
   "source": [
    "# Use the mean of the 2 surface sensors as our surface measurement\n",
    "surf = [s for s in eb.columns if 'CO2' in s and 'AG25' in s]\n",
    "eb['SURF_CO2'] = eb[surf].mean(axis=1)\n",
    "\n",
    "# Write the joined Edge Black data to file\n",
    "eb.to_csv(dpath + '/EdgeBlack_join_DRAFT.csv')"
   ]
  },
  {
   "cell_type": "code",
   "execution_count": 7,
   "metadata": {},
   "outputs": [
    {
     "name": "stdout",
     "output_type": "stream",
     "text": [
      "Calculating flux for boundary and 3 depths.\n",
      "Boundary VWC, Tsoil, and soil texture derived from shallowest measurements\n",
      "Calculating flux for boundary and 3 depths.\n",
      "Boundary VWC, Tsoil, and soil texture derived from shallowest measurements\n",
      "Calculating flux for boundary and 3 depths.\n",
      "Boundary VWC, Tsoil, and soil texture derived from shallowest measurements\n",
      "Calculating flux for boundary and 3 depths.\n",
      "Boundary VWC, Tsoil, and soil texture derived from shallowest measurements\n",
      "Calculating flux for boundary and 3 depths.\n",
      "Boundary VWC, Tsoil, and soil texture derived from shallowest measurements\n",
      "Calculating flux for boundary and 3 depths.\n",
      "Boundary VWC, Tsoil, and soil texture derived from shallowest measurements\n",
      "Calculating flux for boundary and 3 depths.\n",
      "Boundary VWC, Tsoil, and soil texture derived from shallowest measurements\n",
      "Calculating flux for boundary and 3 depths.\n",
      "Boundary VWC, Tsoil, and soil texture derived from shallowest measurements\n",
      "Calculating flux for boundary and 3 depths.\n",
      "Boundary VWC, Tsoil, and soil texture derived from shallowest measurements\n"
     ]
    }
   ],
   "source": [
    "# Calculate the fluxes\n",
    "# This section is a bit hairy. Calculation of fluxes mainly happens in \n",
    "# the \"ecoflux\" module (on Greg's GitHub). The loop below goes through\n",
    "# each profile in the Edge Black dataset, creates matrices of CO2, VWC,\n",
    "# Tsoil, soil texture, etc and then sends them to an ecoflux function.\n",
    "# Calculated fluxes are then joined and written out into a file.\n",
    "\n",
    "#%pdb\n",
    "siteid = 'edgeblack'\n",
    "soilprofile='1'\n",
    "particled=2.65\n",
    "\n",
    "for i, co2prof in enumerate(sorted(co2conf.keys())):\n",
    "    # Get profile number and CO2 sensor depths\n",
    "    #sensor, profile = co2prof.split('_')\n",
    "    sensor='CO2'\n",
    "    profile=co2prof\n",
    "    co2depths = co2conf[co2prof]\n",
    "    if 'AG25' in co2depths: co2depths.remove('AG25')\n",
    "    co2depths = sorted([int(l) for l in co2depths])\n",
    "    # Get porosity sandsilt and z_vals (eventually this may happen by\n",
    "    # profile when all samples are measured)\n",
    "    soil = soildf.query(\"siteid_1=='\" + siteid + \n",
    "            \"' and profile==\" + soilprofile)\n",
    "    # Reduce replicates to their mean\n",
    "    gby = soil.groupby(['siteid_1', 'profile', 'horizon'])\n",
    "    soil = gby.mean()# only needed if replicate masurements\n",
    "    # Get boolean array for soil depths with sensor placements\n",
    "    sensormatch = pd.Series(False, index=soil.index)\n",
    "    #stop()\n",
    "    for d in range(len(co2depths)):\n",
    "        test = np.logical_and(co2depths[d] > soil.depth_top,\n",
    "                co2depths[d] < soil.depth_bottom)\n",
    "        sensormatch = sensormatch | test\n",
    "\n",
    "    # Now get soil depth/textural data for each sensor cluster\n",
    "    poros = 1 - (soil[sensormatch].bulk_d_est/particled)\n",
    "    sandsilt = soil[sensormatch].ss/100\n",
    "    #stop()\n",
    "    z_vals = pd.Series([c/100 for c in co2depths],\n",
    "                       index=soil[sensormatch].index)\n",
    "\n",
    "    # Get column names for CO2, Tsoil, and VWC vectors and sort to proper order\n",
    "    C_cols = [s for s in eb.columns if profile in s and 'CO2' in s and 'AG25' not in s]\n",
    "    C_cols = sorted(C_cols, key=lambda x: int(x.split('_')[4]))\n",
    "    Ts_cols = [s for s in eb.columns if profile in s and 'SOILTEMP' in s]\n",
    "    Ts_cols = sorted(Ts_cols, key=lambda x: int(x.split('_')[4]))\n",
    "    Ts_cols = Ts_cols + [Ts_cols[1]]\n",
    "    VWC_cols = [s for s in eb.columns if profile in s and 'VWC' in s]\n",
    "    VWC_cols = sorted(VWC_cols, key=lambda x: int(x.split('_')[4]))\n",
    "    VWC_cols = VWC_cols + [VWC_cols[1]]\n",
    "    # Concatenate surface CO2 and 3 in-soil sensors into a 2d vector\n",
    "    Cd = np.column_stack([eb['SURF_CO2'].values, eb[C_cols].values])\n",
    "    # Make 2d vector of Tsoil\n",
    "    Tsd = eb[Ts_cols].values\n",
    "    # Make 2d vector of VWC data\n",
    "    # The rolling mean helps with temperature sensitivity\n",
    "    VWCd = eb[VWC_cols].rolling(window=144, center=True).mean().values\n",
    "    # Calculate the fluxes (old function, ignore)\n",
    "    #f_mold99, p, d_mold99 = sp.gradient_flux_prod(Cd,Tsd,VWCd,\n",
    "    #        df['BP_hPa'].values,poros,sandsilt,z_vals=[0.05,0.25,0.5,1.25],\n",
    "    #        makeplots=True)\n",
    "    # Calculate fluxes with revised function\n",
    "    # Default Ds model is Moldrup9, others available\n",
    "    f_mold99, d_mold99 = sp.diff_profile_to_flux(Cd, Tsd, VWCd,\n",
    "            poros,sandsilt,z_vals,eb['bPressure_Avg'].values,\n",
    "            makeplots=True)\n",
    "    # Rename returned columns then put in a dataframe for writing out\n",
    "    fluxcols = ['CO2flux_{0}_surf', 'CO2flux_{0}_d1', 'CO2flux_{0}_d2',\n",
    "                'CO2flux_{0}_dTot']\n",
    "    fluxcols = [s.format(profile) for s in fluxcols]\n",
    "    fluxtmp = pd.DataFrame(f_mold99, columns=fluxcols, index=eb.index)\n",
    "    \n",
    "    if i < 1:\n",
    "        fluxout = fluxtmp\n",
    "    else:\n",
    "        fluxout = pd.concat([fluxout, fluxtmp], axis=1)"
   ]
  },
  {
   "cell_type": "code",
   "execution_count": 8,
   "metadata": {},
   "outputs": [],
   "source": [
    "# Write to csv\n",
    "fluxout.to_csv(dpath + '/EdgeBlack_fluxes_DRAFT.csv')"
   ]
  },
  {
   "cell_type": "code",
   "execution_count": 9,
   "metadata": {},
   "outputs": [
    {
     "data": {
      "text/plain": [
       "<matplotlib.axes._subplots.AxesSubplot at 0x7fa597ea8710>"
      ]
     },
     "execution_count": 9,
     "metadata": {},
     "output_type": "execute_result"
    },
    {
     "data": {
      "image/png": "[encoded data removed]",
      "text/plain": [
       "<Figure size 432x288 with 1 Axes>"
      ]
     },
     "metadata": {
      "needs_background": "light"
     },
     "output_type": "display_data"
    }
   ],
   "source": [
    "# Plot one of the surface fluxes - still a bit spiky\n",
    "fluxout.CO2flux_P16ESR_surf.plot()"
   ]
  }
 ],
 "metadata": {
  "kernelspec": {
   "display_name": "Python 3",
   "language": "python",
   "name": "python3"
  },
  "language_info": {
   "codemirror_mode": {
    "name": "ipython",
    "version": 3
   },
   "file_extension": ".py",
   "mimetype": "text/x-python",
   "name": "python",
   "nbconvert_exporter": "python",
   "pygments_lexer": "ipython3",
   "version": "3.7.4"
  }
 },
 "nbformat": 4,
 "nbformat_minor": 4
}
